{
 "cells": [
  {
   "cell_type": "code",
   "execution_count": 78,
   "id": "a87be6bf-bd76-4695-ad91-ad0b55432adc",
   "metadata": {},
   "outputs": [
    {
     "data": {
      "text/plain": [
       "<Figure size 1296x576 with 0 Axes>"
      ]
     },
     "execution_count": 78,
     "metadata": {},
     "output_type": "execute_result"
    },
    {
     "data": {
      "text/plain": [
       "<Figure size 1296x576 with 0 Axes>"
      ]
     },
     "metadata": {},
     "output_type": "display_data"
    }
   ],
   "source": [
    "import pandas as pd\n",
    "import numpy as np\n",
    "from scipy import stats\n",
    "\n",
    "import seaborn as sns\n",
    "import matplotlib.pyplot as plt\n",
    "%matplotlib inline\n",
    "plt.figure(figsize = (18,8))"
   ]
  },
  {
   "cell_type": "code",
   "execution_count": 40,
   "id": "d28db94d-8d50-4951-96a4-4572e40389e8",
   "metadata": {},
   "outputs": [
    {
     "data": {
      "text/html": [
       "<div>\n",
       "<style scoped>\n",
       "    .dataframe tbody tr th:only-of-type {\n",
       "        vertical-align: middle;\n",
       "    }\n",
       "\n",
       "    .dataframe tbody tr th {\n",
       "        vertical-align: top;\n",
       "    }\n",
       "\n",
       "    .dataframe thead th {\n",
       "        text-align: right;\n",
       "    }\n",
       "</style>\n",
       "<table border=\"1\" class=\"dataframe\">\n",
       "  <thead>\n",
       "    <tr style=\"text-align: right;\">\n",
       "      <th></th>\n",
       "      <th>actionGroup</th>\n",
       "      <th>magazin</th>\n",
       "      <th>days</th>\n",
       "      <th>Revenue</th>\n",
       "      <th># Checks</th>\n",
       "      <th>Qty</th>\n",
       "      <th>Avg Check Size</th>\n",
       "      <th>Avg Check</th>\n",
       "      <th>before days</th>\n",
       "      <th>before Revenue</th>\n",
       "      <th>before # Checks</th>\n",
       "      <th>before Qty</th>\n",
       "      <th>before Avg Check Size</th>\n",
       "      <th>before Avg Check</th>\n",
       "    </tr>\n",
       "  </thead>\n",
       "  <tbody>\n",
       "    <tr>\n",
       "      <th>0</th>\n",
       "      <td>Акция 1</td>\n",
       "      <td>1</td>\n",
       "      <td>16</td>\n",
       "      <td>36987.2800</td>\n",
       "      <td>132</td>\n",
       "      <td>220</td>\n",
       "      <td>1.666667</td>\n",
       "      <td>280.206667</td>\n",
       "      <td>16.0</td>\n",
       "      <td>24969.4400</td>\n",
       "      <td>92.0</td>\n",
       "      <td>150.0</td>\n",
       "      <td>1.6304</td>\n",
       "      <td>271.406957</td>\n",
       "    </tr>\n",
       "    <tr>\n",
       "      <th>1</th>\n",
       "      <td>Акция 1</td>\n",
       "      <td>2</td>\n",
       "      <td>16</td>\n",
       "      <td>70944.0428</td>\n",
       "      <td>358</td>\n",
       "      <td>636</td>\n",
       "      <td>1.776536</td>\n",
       "      <td>198.167717</td>\n",
       "      <td>16.0</td>\n",
       "      <td>82326.7109</td>\n",
       "      <td>299.0</td>\n",
       "      <td>473.0</td>\n",
       "      <td>1.5819</td>\n",
       "      <td>275.340170</td>\n",
       "    </tr>\n",
       "    <tr>\n",
       "      <th>2</th>\n",
       "      <td>Акция 1</td>\n",
       "      <td>3</td>\n",
       "      <td>16</td>\n",
       "      <td>93335.7800</td>\n",
       "      <td>440</td>\n",
       "      <td>791</td>\n",
       "      <td>1.797727</td>\n",
       "      <td>212.126773</td>\n",
       "      <td>16.0</td>\n",
       "      <td>68219.6800</td>\n",
       "      <td>291.0</td>\n",
       "      <td>411.0</td>\n",
       "      <td>1.4124</td>\n",
       "      <td>234.431890</td>\n",
       "    </tr>\n",
       "    <tr>\n",
       "      <th>3</th>\n",
       "      <td>Акция 1</td>\n",
       "      <td>4</td>\n",
       "      <td>16</td>\n",
       "      <td>28390.5000</td>\n",
       "      <td>130</td>\n",
       "      <td>168</td>\n",
       "      <td>1.292308</td>\n",
       "      <td>218.388462</td>\n",
       "      <td>16.0</td>\n",
       "      <td>22224.9300</td>\n",
       "      <td>124.0</td>\n",
       "      <td>139.0</td>\n",
       "      <td>1.1210</td>\n",
       "      <td>179.233306</td>\n",
       "    </tr>\n",
       "    <tr>\n",
       "      <th>4</th>\n",
       "      <td>Акция 1</td>\n",
       "      <td>5</td>\n",
       "      <td>16</td>\n",
       "      <td>35707.3400</td>\n",
       "      <td>122</td>\n",
       "      <td>165</td>\n",
       "      <td>1.352459</td>\n",
       "      <td>292.683115</td>\n",
       "      <td>16.0</td>\n",
       "      <td>17469.5100</td>\n",
       "      <td>85.0</td>\n",
       "      <td>106.0</td>\n",
       "      <td>1.2471</td>\n",
       "      <td>205.523647</td>\n",
       "    </tr>\n",
       "    <tr>\n",
       "      <th>...</th>\n",
       "      <td>...</td>\n",
       "      <td>...</td>\n",
       "      <td>...</td>\n",
       "      <td>...</td>\n",
       "      <td>...</td>\n",
       "      <td>...</td>\n",
       "      <td>...</td>\n",
       "      <td>...</td>\n",
       "      <td>...</td>\n",
       "      <td>...</td>\n",
       "      <td>...</td>\n",
       "      <td>...</td>\n",
       "      <td>...</td>\n",
       "      <td>...</td>\n",
       "    </tr>\n",
       "    <tr>\n",
       "      <th>440</th>\n",
       "      <td>Акция 1</td>\n",
       "      <td>441</td>\n",
       "      <td>16</td>\n",
       "      <td>24352.6200</td>\n",
       "      <td>132</td>\n",
       "      <td>197</td>\n",
       "      <td>1.492424</td>\n",
       "      <td>184.489545</td>\n",
       "      <td>16.0</td>\n",
       "      <td>14462.4000</td>\n",
       "      <td>83.0</td>\n",
       "      <td>99.0</td>\n",
       "      <td>1.1928</td>\n",
       "      <td>174.245783</td>\n",
       "    </tr>\n",
       "    <tr>\n",
       "      <th>441</th>\n",
       "      <td>Акция 1</td>\n",
       "      <td>442</td>\n",
       "      <td>15</td>\n",
       "      <td>24500.6700</td>\n",
       "      <td>91</td>\n",
       "      <td>141</td>\n",
       "      <td>1.549451</td>\n",
       "      <td>269.238132</td>\n",
       "      <td>16.0</td>\n",
       "      <td>18177.1700</td>\n",
       "      <td>50.0</td>\n",
       "      <td>59.0</td>\n",
       "      <td>1.1800</td>\n",
       "      <td>363.543400</td>\n",
       "    </tr>\n",
       "    <tr>\n",
       "      <th>442</th>\n",
       "      <td>Акция 1</td>\n",
       "      <td>443</td>\n",
       "      <td>9</td>\n",
       "      <td>7653.2800</td>\n",
       "      <td>15</td>\n",
       "      <td>24</td>\n",
       "      <td>1.600000</td>\n",
       "      <td>510.218667</td>\n",
       "      <td>7.0</td>\n",
       "      <td>1669.6900</td>\n",
       "      <td>10.0</td>\n",
       "      <td>11.0</td>\n",
       "      <td>1.1000</td>\n",
       "      <td>166.969000</td>\n",
       "    </tr>\n",
       "    <tr>\n",
       "      <th>443</th>\n",
       "      <td>Акция 1</td>\n",
       "      <td>444</td>\n",
       "      <td>16</td>\n",
       "      <td>29977.3000</td>\n",
       "      <td>126</td>\n",
       "      <td>154</td>\n",
       "      <td>1.222222</td>\n",
       "      <td>237.915079</td>\n",
       "      <td>15.0</td>\n",
       "      <td>18961.5800</td>\n",
       "      <td>62.0</td>\n",
       "      <td>71.0</td>\n",
       "      <td>1.1452</td>\n",
       "      <td>305.831935</td>\n",
       "    </tr>\n",
       "    <tr>\n",
       "      <th>444</th>\n",
       "      <td>Акция 1</td>\n",
       "      <td>445</td>\n",
       "      <td>16</td>\n",
       "      <td>19101.6800</td>\n",
       "      <td>48</td>\n",
       "      <td>84</td>\n",
       "      <td>1.750000</td>\n",
       "      <td>397.951667</td>\n",
       "      <td>13.0</td>\n",
       "      <td>6853.9200</td>\n",
       "      <td>33.0</td>\n",
       "      <td>49.0</td>\n",
       "      <td>1.4848</td>\n",
       "      <td>207.694545</td>\n",
       "    </tr>\n",
       "  </tbody>\n",
       "</table>\n",
       "<p>445 rows × 14 columns</p>\n",
       "</div>"
      ],
      "text/plain": [
       "    actionGroup  magazin  days     Revenue  # Checks  Qty  Avg Check Size  \\\n",
       "0       Акция 1        1    16  36987.2800       132  220        1.666667   \n",
       "1       Акция 1        2    16  70944.0428       358  636        1.776536   \n",
       "2       Акция 1        3    16  93335.7800       440  791        1.797727   \n",
       "3       Акция 1        4    16  28390.5000       130  168        1.292308   \n",
       "4       Акция 1        5    16  35707.3400       122  165        1.352459   \n",
       "..          ...      ...   ...         ...       ...  ...             ...   \n",
       "440     Акция 1      441    16  24352.6200       132  197        1.492424   \n",
       "441     Акция 1      442    15  24500.6700        91  141        1.549451   \n",
       "442     Акция 1      443     9   7653.2800        15   24        1.600000   \n",
       "443     Акция 1      444    16  29977.3000       126  154        1.222222   \n",
       "444     Акция 1      445    16  19101.6800        48   84        1.750000   \n",
       "\n",
       "      Avg Check  before days  before Revenue  before # Checks  before Qty  \\\n",
       "0    280.206667         16.0      24969.4400             92.0       150.0   \n",
       "1    198.167717         16.0      82326.7109            299.0       473.0   \n",
       "2    212.126773         16.0      68219.6800            291.0       411.0   \n",
       "3    218.388462         16.0      22224.9300            124.0       139.0   \n",
       "4    292.683115         16.0      17469.5100             85.0       106.0   \n",
       "..          ...          ...             ...              ...         ...   \n",
       "440  184.489545         16.0      14462.4000             83.0        99.0   \n",
       "441  269.238132         16.0      18177.1700             50.0        59.0   \n",
       "442  510.218667          7.0       1669.6900             10.0        11.0   \n",
       "443  237.915079         15.0      18961.5800             62.0        71.0   \n",
       "444  397.951667         13.0       6853.9200             33.0        49.0   \n",
       "\n",
       "     before Avg Check Size  before Avg Check  \n",
       "0                   1.6304        271.406957  \n",
       "1                   1.5819        275.340170  \n",
       "2                   1.4124        234.431890  \n",
       "3                   1.1210        179.233306  \n",
       "4                   1.2471        205.523647  \n",
       "..                     ...               ...  \n",
       "440                 1.1928        174.245783  \n",
       "441                 1.1800        363.543400  \n",
       "442                 1.1000        166.969000  \n",
       "443                 1.1452        305.831935  \n",
       "444                 1.4848        207.694545  \n",
       "\n",
       "[445 rows x 14 columns]"
      ]
     },
     "execution_count": 40,
     "metadata": {},
     "output_type": "execute_result"
    }
   ],
   "source": [
    "df = pd.read_excel('Копия data_interval_test(3502).xlsx')\n",
    "df"
   ]
  },
  {
   "cell_type": "code",
   "execution_count": 3,
   "id": "fef2cfd4-e93d-4910-ab54-c05ae29bbf41",
   "metadata": {},
   "outputs": [
    {
     "data": {
      "image/png": "[encoded data removed]",
      "text/plain": [
       "<Figure size 1800x864 with 1 Axes>"
      ]
     },
     "metadata": {
      "needs_background": "light"
     },
     "output_type": "display_data"
    }
   ],
   "source": [
    "plt.style.use('seaborn-deep')\n",
    "plt.figure(figsize = (25, 12))\n",
    "df['# Checks'].hist(bins=100, label = '# Checks')\n",
    "df['before # Checks'].hist(bins=100, label ='before # Checks')\n",
    "plt.legend(loc='upper right');"
   ]
  },
  {
   "cell_type": "code",
   "execution_count": 4,
   "id": "d7dfb9de-e3bb-42af-8adb-9807bce4c4b6",
   "metadata": {},
   "outputs": [
    {
     "data": {
      "image/png": "[encoded data removed]",
      "text/plain": [
       "<Figure size 1800x864 with 1 Axes>"
      ]
     },
     "metadata": {
      "needs_background": "light"
     },
     "output_type": "display_data"
    }
   ],
   "source": [
    "plt.style.use('seaborn-deep')\n",
    "plt.figure(figsize = (25, 12))\n",
    "df['Revenue'].hist(bins=100, label ='Revenue')\n",
    "df['before Revenue'].hist(bins=100, label = 'before Revenue')\n",
    "plt.legend(loc='upper right');"
   ]
  },
  {
   "cell_type": "code",
   "execution_count": 5,
   "id": "e24405ac-3a10-4364-a313-8ecbef0c6c3f",
   "metadata": {},
   "outputs": [
    {
     "data": {
      "image/png": "[encoded data removed]",
      "text/plain": [
       "<Figure size 1800x864 with 1 Axes>"
      ]
     },
     "metadata": {
      "needs_background": "light"
     },
     "output_type": "display_data"
    }
   ],
   "source": [
    "plt.style.use('seaborn-deep')\n",
    "plt.figure(figsize = (25, 12))\n",
    "df['Qty'].hist(bins=100, label = 'Qty')\n",
    "df['before Qty'].hist(bins=100, label ='before Qty')\n",
    "plt.legend(loc='upper right');"
   ]
  },
  {
   "cell_type": "code",
   "execution_count": 6,
   "id": "075300c7-1a88-47a4-b4c3-28219a07dc4e",
   "metadata": {},
   "outputs": [
    {
     "data": {
      "image/png": "[encoded data removed]",
      "text/plain": [
       "<Figure size 1800x864 with 1 Axes>"
      ]
     },
     "metadata": {
      "needs_background": "light"
     },
     "output_type": "display_data"
    }
   ],
   "source": [
    "plt.style.use('seaborn-deep')\n",
    "plt.figure(figsize = (25, 12))\n",
    "df['Avg Check Size'].hist(bins=100, label = 'Avg Check Size')\n",
    "df['before Avg Check Size'].hist(bins=100, label ='before Avg Check Size')\n",
    "plt.legend(loc='upper right');"
   ]
  },
  {
   "cell_type": "code",
   "execution_count": 7,
   "id": "0cb5641b-3410-42b0-a2f5-ab152f2a4717",
   "metadata": {},
   "outputs": [
    {
     "data": {
      "image/png": "[encoded data removed]",
      "text/plain": [
       "<Figure size 1800x864 with 1 Axes>"
      ]
     },
     "metadata": {
      "needs_background": "light"
     },
     "output_type": "display_data"
    }
   ],
   "source": [
    "plt.style.use('seaborn-deep')\n",
    "plt.figure(figsize = (25, 12))\n",
    "df['Avg Check'].hist(bins=100, label = 'Avg Check')\n",
    "df['before Avg Check'].hist(bins=100, label ='before Avg Check')\n",
    "plt.legend(loc='upper right');"
   ]
  },
  {
   "cell_type": "code",
   "execution_count": 8,
   "id": "dc0cd716-4b2d-4500-a96a-189966f16c85",
   "metadata": {},
   "outputs": [],
   "source": [
    "def confidence_interval(data, alpha = 0.05):\n",
    "    se = np.sqrt(np.mean(data)/data.shape[0])\n",
    "    \n",
    "    q = stats.norm.ppf(1 - alpha/2)\n",
    "\n",
    "    upper = np.mean(data) + q*se\n",
    "    low = np.mean(data) - q*se\n",
    "    \n",
    "    return upper, low"
   ]
  },
  {
   "cell_type": "code",
   "execution_count": 56,
   "id": "9a34a064-de4a-45ed-b6c6-2c52491b4ff2",
   "metadata": {},
   "outputs": [],
   "source": [
    "def confidence_interval_difference(data1, data2, alpha=0.05):\n",
    "    se1_sq = np.mean(data1)/data1.shape[0]\n",
    "    se2_sq = np.mean(data2)/data2.shape[0]\n",
    "    \n",
    "    q = stats.norm.ppf(1 - alpha/2)\n",
    "    upper_interval_diff = (np.mean(data1)-np.mean(data2)) + q*np.sqrt(se1_sq+se2_sq)\n",
    "    low_interval_diff = (np.mean(data1)-np.mean(data2)) - q*np.sqrt(se1_sq+se2_sq)\n",
    "    \n",
    "    return upper_interval_diff, low_interval_diff\n",
    "    "
   ]
  },
  {
   "cell_type": "code",
   "execution_count": 29,
   "id": "7187046a-de0f-498d-a138-0c244ffd2a54",
   "metadata": {},
   "outputs": [],
   "source": [
    "index = list(df.columns)\n",
    "intervals = pd.DataFrame(index = index,\n",
    "                         columns = ('upper', 'lower'))"
   ]
  },
  {
   "cell_type": "code",
   "execution_count": 69,
   "id": "0942a20e-2bfc-42b1-add7-6aba58b5ec71",
   "metadata": {},
   "outputs": [],
   "source": [
    "metrics = index[:5]\n",
    "diff_interval =  pd.DataFrame(index = metrics,\n",
    "                         columns = ('upper difference interval with before', 'lower difference interval with before'))"
   ]
  },
  {
   "cell_type": "code",
   "execution_count": 41,
   "id": "31046b2e-8be6-4e91-9125-5d3ac8408488",
   "metadata": {},
   "outputs": [],
   "source": [
    "df = df.drop(['actionGroup', 'magazin', 'days', 'before days'], axis=1)"
   ]
  },
  {
   "cell_type": "code",
   "execution_count": 32,
   "id": "80809b2f-f63d-481b-9faa-73d39ff19052",
   "metadata": {},
   "outputs": [],
   "source": [
    "upper = []\n",
    "lower = []\n",
    "for i in range(len(index)):\n",
    "    upper.append(round(confidence_interval(df[metrics[i]])[0], 3))\n",
    "    lower.append(round(confidence_interval(df[metrics[i]])[1], 3))\n",
    "intervals['upper'] = upper\n",
    "intervals['lower'] = lower\n",
    "    "
   ]
  },
  {
   "cell_type": "code",
   "execution_count": 34,
   "id": "0a266ad5-1264-4e20-9b51-db36d00ab587",
   "metadata": {},
   "outputs": [
    {
     "data": {
      "text/html": [
       "<div>\n",
       "<style scoped>\n",
       "    .dataframe tbody tr th:only-of-type {\n",
       "        vertical-align: middle;\n",
       "    }\n",
       "\n",
       "    .dataframe tbody tr th {\n",
       "        vertical-align: top;\n",
       "    }\n",
       "\n",
       "    .dataframe thead th {\n",
       "        text-align: right;\n",
       "    }\n",
       "</style>\n",
       "<table border=\"1\" class=\"dataframe\">\n",
       "  <thead>\n",
       "    <tr style=\"text-align: right;\">\n",
       "      <th></th>\n",
       "      <th>Revenue</th>\n",
       "      <th># Checks</th>\n",
       "      <th>Qty</th>\n",
       "      <th>Avg Check Size</th>\n",
       "      <th>Avg Check</th>\n",
       "      <th>before Revenue</th>\n",
       "      <th>before # Checks</th>\n",
       "      <th>before Qty</th>\n",
       "      <th>before Avg Check Size</th>\n",
       "      <th>before Avg Check</th>\n",
       "    </tr>\n",
       "  </thead>\n",
       "  <tbody>\n",
       "    <tr>\n",
       "      <th>upper</th>\n",
       "      <td>31893.207</td>\n",
       "      <td>171.178</td>\n",
       "      <td>245.686</td>\n",
       "      <td>1.587</td>\n",
       "      <td>290.443</td>\n",
       "      <td>27612.801</td>\n",
       "      <td>126.387</td>\n",
       "      <td>169.589</td>\n",
       "      <td>1.432</td>\n",
       "      <td>286.367</td>\n",
       "    </tr>\n",
       "    <tr>\n",
       "      <th>lower</th>\n",
       "      <td>31860.030</td>\n",
       "      <td>168.755</td>\n",
       "      <td>242.782</td>\n",
       "      <td>1.361</td>\n",
       "      <td>287.284</td>\n",
       "      <td>27581.932</td>\n",
       "      <td>124.306</td>\n",
       "      <td>167.177</td>\n",
       "      <td>1.218</td>\n",
       "      <td>283.231</td>\n",
       "    </tr>\n",
       "  </tbody>\n",
       "</table>\n",
       "</div>"
      ],
      "text/plain": [
       "         Revenue  # Checks      Qty  Avg Check Size  Avg Check  \\\n",
       "upper  31893.207   171.178  245.686           1.587    290.443   \n",
       "lower  31860.030   168.755  242.782           1.361    287.284   \n",
       "\n",
       "       before Revenue  before # Checks  before Qty  before Avg Check Size  \\\n",
       "upper       27612.801          126.387     169.589                  1.432   \n",
       "lower       27581.932          124.306     167.177                  1.218   \n",
       "\n",
       "       before Avg Check  \n",
       "upper           286.367  \n",
       "lower           283.231  "
      ]
     },
     "execution_count": 34,
     "metadata": {},
     "output_type": "execute_result"
    }
   ],
   "source": [
    "intervals.T"
   ]
  },
  {
   "cell_type": "code",
   "execution_count": 70,
   "id": "53362ce3-d674-4188-ade8-ee319741d23f",
   "metadata": {},
   "outputs": [],
   "source": [
    "dif_upper = []\n",
    "dif_lower = []\n",
    "for i in range(len(metrics)):\n",
    "    dif_upper.append(round(confidence_interval_difference(df[index[i]], df[index[i+5]])[0], 3))\n",
    "    dif_lower.append(round(confidence_interval_difference(df[index[i]], df[index[i+5]])[1], 3))\n",
    "diff_interval['upper difference interval with before'] = dif_upper\n",
    "diff_interval['lower difference interval with before'] = dif_lower"
   ]
  },
  {
   "cell_type": "code",
   "execution_count": 71,
   "id": "01a7f46a-d415-4a4d-8ec6-a9046e1deeb3",
   "metadata": {},
   "outputs": [
    {
     "data": {
      "text/html": [
       "<div>\n",
       "<style scoped>\n",
       "    .dataframe tbody tr th:only-of-type {\n",
       "        vertical-align: middle;\n",
       "    }\n",
       "\n",
       "    .dataframe tbody tr th {\n",
       "        vertical-align: top;\n",
       "    }\n",
       "\n",
       "    .dataframe thead th {\n",
       "        text-align: right;\n",
       "    }\n",
       "</style>\n",
       "<table border=\"1\" class=\"dataframe\">\n",
       "  <thead>\n",
       "    <tr style=\"text-align: right;\">\n",
       "      <th></th>\n",
       "      <th>upper difference interval with before</th>\n",
       "      <th>lower difference interval with before</th>\n",
       "    </tr>\n",
       "  </thead>\n",
       "  <tbody>\n",
       "    <tr>\n",
       "      <th>Revenue</th>\n",
       "      <td>4301.910</td>\n",
       "      <td>4256.593</td>\n",
       "    </tr>\n",
       "    <tr>\n",
       "      <th># Checks</th>\n",
       "      <td>46.217</td>\n",
       "      <td>43.023</td>\n",
       "    </tr>\n",
       "    <tr>\n",
       "      <th>Qty</th>\n",
       "      <td>77.738</td>\n",
       "      <td>73.963</td>\n",
       "    </tr>\n",
       "    <tr>\n",
       "      <th>Avg Check Size</th>\n",
       "      <td>0.305</td>\n",
       "      <td>-0.006</td>\n",
       "    </tr>\n",
       "    <tr>\n",
       "      <th>Avg Check</th>\n",
       "      <td>6.290</td>\n",
       "      <td>1.840</td>\n",
       "    </tr>\n",
       "  </tbody>\n",
       "</table>\n",
       "</div>"
      ],
      "text/plain": [
       "                upper difference interval with before  \\\n",
       "Revenue                                      4301.910   \n",
       "# Checks                                       46.217   \n",
       "Qty                                            77.738   \n",
       "Avg Check Size                                  0.305   \n",
       "Avg Check                                       6.290   \n",
       "\n",
       "                lower difference interval with before  \n",
       "Revenue                                      4256.593  \n",
       "# Checks                                       43.023  \n",
       "Qty                                            73.963  \n",
       "Avg Check Size                                 -0.006  \n",
       "Avg Check                                       1.840  "
      ]
     },
     "execution_count": 71,
     "metadata": {},
     "output_type": "execute_result"
    }
   ],
   "source": [
    "diff_interval"
   ]
  },
  {
   "cell_type": "markdown",
   "id": "87bf9f2d-c43e-4617-aa42-9a33fc35a169",
   "metadata": {},
   "source": [
    "Вывод: Врезультате А/В тестирования наблюдаются значимые изменения метрик Revenue, Checks, Qty, Avg Check, так как доверительный интервал с уровнем значимсти 0.05 для разности средних не включает 0, и с вероятнотью 0.95 изменение этих отличное от нуля. \n",
    "       Изменение метрики Avg Check Sizе не имеет статистически значимых изменений, так как доверительный интервал с уровнем значимсти 0.05 для разности средних не включает 0"
   ]
  },
  {
   "cell_type": "code",
   "execution_count": null,
   "id": "6a709424-44f5-48e5-ae2d-68b33205101a",
   "metadata": {},
   "outputs": [],
   "source": []
  }
 ],
 "metadata": {
  "kernelspec": {
   "display_name": "Python 3",
   "language": "python",
   "name": "python3"
  },
  "language_info": {
   "codemirror_mode": {
    "name": "ipython",
    "version": 3
   },
   "file_extension": ".py",
   "mimetype": "text/x-python",
   "name": "python",
   "nbconvert_exporter": "python",
   "pygments_lexer": "ipython3",
   "version": "3.9.4"
  }
 },
 "nbformat": 4,
 "nbformat_minor": 5
}
