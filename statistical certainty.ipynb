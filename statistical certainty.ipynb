{
 "cells": [
  {
   "cell_type": "markdown",
   "id": "872efb54-834e-4e94-86ad-823f0a817606",
   "metadata": {},
   "source": [
    "## Задача: Определение статистической значимости изменений метрик в результате проведения Акции в магазине."
   ]
  },
  {
   "cell_type": "code",
   "execution_count": null,
   "id": "3f4fe7eb-461b-474e-8337-486cacd719ef",
   "metadata": {},
   "outputs": [],
   "source": [
    "import numpy as np\n",
    "import pandas as pd\n",
    "from scipy import stats\n",
    "from statsmodels.stats import descriptivestats\n",
    "import seaborn as sns\n",
    "import matplotlib.pyplot as plt\n",
    "\n",
    "plt.style.use('ggplot')\n",
    "%matplotlib inline\n",
    "\n",
    "import warnings\n",
    "warnings.filterwarnings('ignore')"
   ]
  },
  {
   "cell_type": "code",
   "execution_count": 23,
   "id": "732ba747-6fcc-4754-83cb-1b7a50e7c886",
   "metadata": {},
   "outputs": [
    {
     "data": {
      "text/html": [
       "<div>\n",
       "<style scoped>\n",
       "    .dataframe tbody tr th:only-of-type {\n",
       "        vertical-align: middle;\n",
       "    }\n",
       "\n",
       "    .dataframe tbody tr th {\n",
       "        vertical-align: top;\n",
       "    }\n",
       "\n",
       "    .dataframe thead th {\n",
       "        text-align: right;\n",
       "    }\n",
       "</style>\n",
       "<table border=\"1\" class=\"dataframe\">\n",
       "  <thead>\n",
       "    <tr style=\"text-align: right;\">\n",
       "      <th></th>\n",
       "      <th>actionGroup</th>\n",
       "      <th>magazin</th>\n",
       "      <th>days</th>\n",
       "      <th>Revenue</th>\n",
       "      <th># Checks</th>\n",
       "      <th>Qty</th>\n",
       "      <th>Avg Check Size</th>\n",
       "      <th>Avg Check</th>\n",
       "      <th>before days</th>\n",
       "      <th>before Revenue</th>\n",
       "      <th>before # Checks</th>\n",
       "      <th>before Qty</th>\n",
       "      <th>before Avg Check Size</th>\n",
       "      <th>before Avg Check</th>\n",
       "    </tr>\n",
       "  </thead>\n",
       "  <tbody>\n",
       "    <tr>\n",
       "      <th>0</th>\n",
       "      <td>Акция 1</td>\n",
       "      <td>1</td>\n",
       "      <td>16</td>\n",
       "      <td>36987.2800</td>\n",
       "      <td>132</td>\n",
       "      <td>220</td>\n",
       "      <td>1.666667</td>\n",
       "      <td>280.206667</td>\n",
       "      <td>16.0</td>\n",
       "      <td>24969.4400</td>\n",
       "      <td>92.0</td>\n",
       "      <td>150.0</td>\n",
       "      <td>1.6304</td>\n",
       "      <td>271.406957</td>\n",
       "    </tr>\n",
       "    <tr>\n",
       "      <th>1</th>\n",
       "      <td>Акция 1</td>\n",
       "      <td>2</td>\n",
       "      <td>16</td>\n",
       "      <td>70944.0428</td>\n",
       "      <td>358</td>\n",
       "      <td>636</td>\n",
       "      <td>1.776536</td>\n",
       "      <td>198.167717</td>\n",
       "      <td>16.0</td>\n",
       "      <td>82326.7109</td>\n",
       "      <td>299.0</td>\n",
       "      <td>473.0</td>\n",
       "      <td>1.5819</td>\n",
       "      <td>275.340170</td>\n",
       "    </tr>\n",
       "    <tr>\n",
       "      <th>2</th>\n",
       "      <td>Акция 1</td>\n",
       "      <td>3</td>\n",
       "      <td>16</td>\n",
       "      <td>93335.7800</td>\n",
       "      <td>440</td>\n",
       "      <td>791</td>\n",
       "      <td>1.797727</td>\n",
       "      <td>212.126773</td>\n",
       "      <td>16.0</td>\n",
       "      <td>68219.6800</td>\n",
       "      <td>291.0</td>\n",
       "      <td>411.0</td>\n",
       "      <td>1.4124</td>\n",
       "      <td>234.431890</td>\n",
       "    </tr>\n",
       "    <tr>\n",
       "      <th>3</th>\n",
       "      <td>Акция 1</td>\n",
       "      <td>4</td>\n",
       "      <td>16</td>\n",
       "      <td>28390.5000</td>\n",
       "      <td>130</td>\n",
       "      <td>168</td>\n",
       "      <td>1.292308</td>\n",
       "      <td>218.388462</td>\n",
       "      <td>16.0</td>\n",
       "      <td>22224.9300</td>\n",
       "      <td>124.0</td>\n",
       "      <td>139.0</td>\n",
       "      <td>1.1210</td>\n",
       "      <td>179.233306</td>\n",
       "    </tr>\n",
       "    <tr>\n",
       "      <th>4</th>\n",
       "      <td>Акция 1</td>\n",
       "      <td>5</td>\n",
       "      <td>16</td>\n",
       "      <td>35707.3400</td>\n",
       "      <td>122</td>\n",
       "      <td>165</td>\n",
       "      <td>1.352459</td>\n",
       "      <td>292.683115</td>\n",
       "      <td>16.0</td>\n",
       "      <td>17469.5100</td>\n",
       "      <td>85.0</td>\n",
       "      <td>106.0</td>\n",
       "      <td>1.2471</td>\n",
       "      <td>205.523647</td>\n",
       "    </tr>\n",
       "    <tr>\n",
       "      <th>...</th>\n",
       "      <td>...</td>\n",
       "      <td>...</td>\n",
       "      <td>...</td>\n",
       "      <td>...</td>\n",
       "      <td>...</td>\n",
       "      <td>...</td>\n",
       "      <td>...</td>\n",
       "      <td>...</td>\n",
       "      <td>...</td>\n",
       "      <td>...</td>\n",
       "      <td>...</td>\n",
       "      <td>...</td>\n",
       "      <td>...</td>\n",
       "      <td>...</td>\n",
       "    </tr>\n",
       "    <tr>\n",
       "      <th>440</th>\n",
       "      <td>Акция 1</td>\n",
       "      <td>441</td>\n",
       "      <td>16</td>\n",
       "      <td>24352.6200</td>\n",
       "      <td>132</td>\n",
       "      <td>197</td>\n",
       "      <td>1.492424</td>\n",
       "      <td>184.489545</td>\n",
       "      <td>16.0</td>\n",
       "      <td>14462.4000</td>\n",
       "      <td>83.0</td>\n",
       "      <td>99.0</td>\n",
       "      <td>1.1928</td>\n",
       "      <td>174.245783</td>\n",
       "    </tr>\n",
       "    <tr>\n",
       "      <th>441</th>\n",
       "      <td>Акция 1</td>\n",
       "      <td>442</td>\n",
       "      <td>15</td>\n",
       "      <td>24500.6700</td>\n",
       "      <td>91</td>\n",
       "      <td>141</td>\n",
       "      <td>1.549451</td>\n",
       "      <td>269.238132</td>\n",
       "      <td>16.0</td>\n",
       "      <td>18177.1700</td>\n",
       "      <td>50.0</td>\n",
       "      <td>59.0</td>\n",
       "      <td>1.1800</td>\n",
       "      <td>363.543400</td>\n",
       "    </tr>\n",
       "    <tr>\n",
       "      <th>442</th>\n",
       "      <td>Акция 1</td>\n",
       "      <td>443</td>\n",
       "      <td>9</td>\n",
       "      <td>7653.2800</td>\n",
       "      <td>15</td>\n",
       "      <td>24</td>\n",
       "      <td>1.600000</td>\n",
       "      <td>510.218667</td>\n",
       "      <td>7.0</td>\n",
       "      <td>1669.6900</td>\n",
       "      <td>10.0</td>\n",
       "      <td>11.0</td>\n",
       "      <td>1.1000</td>\n",
       "      <td>166.969000</td>\n",
       "    </tr>\n",
       "    <tr>\n",
       "      <th>443</th>\n",
       "      <td>Акция 1</td>\n",
       "      <td>444</td>\n",
       "      <td>16</td>\n",
       "      <td>29977.3000</td>\n",
       "      <td>126</td>\n",
       "      <td>154</td>\n",
       "      <td>1.222222</td>\n",
       "      <td>237.915079</td>\n",
       "      <td>15.0</td>\n",
       "      <td>18961.5800</td>\n",
       "      <td>62.0</td>\n",
       "      <td>71.0</td>\n",
       "      <td>1.1452</td>\n",
       "      <td>305.831935</td>\n",
       "    </tr>\n",
       "    <tr>\n",
       "      <th>444</th>\n",
       "      <td>Акция 1</td>\n",
       "      <td>445</td>\n",
       "      <td>16</td>\n",
       "      <td>19101.6800</td>\n",
       "      <td>48</td>\n",
       "      <td>84</td>\n",
       "      <td>1.750000</td>\n",
       "      <td>397.951667</td>\n",
       "      <td>13.0</td>\n",
       "      <td>6853.9200</td>\n",
       "      <td>33.0</td>\n",
       "      <td>49.0</td>\n",
       "      <td>1.4848</td>\n",
       "      <td>207.694545</td>\n",
       "    </tr>\n",
       "  </tbody>\n",
       "</table>\n",
       "<p>445 rows × 14 columns</p>\n",
       "</div>"
      ],
      "text/plain": [
       "    actionGroup  magazin  days     Revenue  # Checks  Qty  Avg Check Size  \\\n",
       "0       Акция 1        1    16  36987.2800       132  220        1.666667   \n",
       "1       Акция 1        2    16  70944.0428       358  636        1.776536   \n",
       "2       Акция 1        3    16  93335.7800       440  791        1.797727   \n",
       "3       Акция 1        4    16  28390.5000       130  168        1.292308   \n",
       "4       Акция 1        5    16  35707.3400       122  165        1.352459   \n",
       "..          ...      ...   ...         ...       ...  ...             ...   \n",
       "440     Акция 1      441    16  24352.6200       132  197        1.492424   \n",
       "441     Акция 1      442    15  24500.6700        91  141        1.549451   \n",
       "442     Акция 1      443     9   7653.2800        15   24        1.600000   \n",
       "443     Акция 1      444    16  29977.3000       126  154        1.222222   \n",
       "444     Акция 1      445    16  19101.6800        48   84        1.750000   \n",
       "\n",
       "      Avg Check  before days  before Revenue  before # Checks  before Qty  \\\n",
       "0    280.206667         16.0      24969.4400             92.0       150.0   \n",
       "1    198.167717         16.0      82326.7109            299.0       473.0   \n",
       "2    212.126773         16.0      68219.6800            291.0       411.0   \n",
       "3    218.388462         16.0      22224.9300            124.0       139.0   \n",
       "4    292.683115         16.0      17469.5100             85.0       106.0   \n",
       "..          ...          ...             ...              ...         ...   \n",
       "440  184.489545         16.0      14462.4000             83.0        99.0   \n",
       "441  269.238132         16.0      18177.1700             50.0        59.0   \n",
       "442  510.218667          7.0       1669.6900             10.0        11.0   \n",
       "443  237.915079         15.0      18961.5800             62.0        71.0   \n",
       "444  397.951667         13.0       6853.9200             33.0        49.0   \n",
       "\n",
       "     before Avg Check Size  before Avg Check  \n",
       "0                   1.6304        271.406957  \n",
       "1                   1.5819        275.340170  \n",
       "2                   1.4124        234.431890  \n",
       "3                   1.1210        179.233306  \n",
       "4                   1.2471        205.523647  \n",
       "..                     ...               ...  \n",
       "440                 1.1928        174.245783  \n",
       "441                 1.1800        363.543400  \n",
       "442                 1.1000        166.969000  \n",
       "443                 1.1452        305.831935  \n",
       "444                 1.4848        207.694545  \n",
       "\n",
       "[445 rows x 14 columns]"
      ]
     },
     "execution_count": 23,
     "metadata": {},
     "output_type": "execute_result"
    }
   ],
   "source": [
    "df = pd.read_excel('Копия data_interval_test(3502).xlsx')\n",
    "df"
   ]
  },
  {
   "cell_type": "code",
   "execution_count": 5,
   "id": "e7720f30-5e2c-4311-acb7-efe617920d48",
   "metadata": {},
   "outputs": [],
   "source": [
    "df = df.drop(['actionGroup','magazin'], axis = 1 )"
   ]
  },
  {
   "cell_type": "code",
   "execution_count": 7,
   "id": "aabbab37-ae0a-4e20-8b6b-d05d29fe3c59",
   "metadata": {},
   "outputs": [],
   "source": [
    "index = ['days', 'Revenue', '# Checks', 'Qty', 'Avg Check Size', 'Avg Check',\n",
    "       'before days', 'before Revenue', 'before # Checks', 'before Qty',\n",
    "       'before Avg Check Size', 'before Avg Check']"
   ]
  },
  {
   "cell_type": "code",
   "execution_count": 8,
   "id": "5eedb4b2-811a-4045-b776-a652d90d748e",
   "metadata": {},
   "outputs": [
    {
     "data": {
      "image/png": "[encoded data removed]",
      "text/plain": [
       "<Figure size 1872x1296 with 6 Axes>"
      ]
     },
     "metadata": {
      "needs_background": "light"
     },
     "output_type": "display_data"
    }
   ],
   "source": [
    "fig, ax = plt.subplots(2, 3, figsize=(26,18)) \n",
    "ind=0\n",
    "for i in range(2):\n",
    "    for j in range(3):\n",
    "        ax[i, j].hist(df[index[ind]], bins=100, label = index[ind])\n",
    "        ax[i, j].hist(df[index[ind+6]], bins=100, label = index[ind+6])\n",
    "        ax[i, j].set_title('Histogram of {}'.format(index[ind]))\n",
    "        ax[i, j].legend(loc='upper right')\n",
    "        ind+=1"
   ]
  },
  {
   "cell_type": "markdown",
   "id": "4e466fd4-bc68-4e33-8de3-f8c61c43df96",
   "metadata": {},
   "source": [
    "Определим статистическую значимость изменения метрики Revenue с критерия Уилксона, так как распределение визуально не похоже на нормальное и мы не можем применять критерий Стьюдента."
   ]
  },
  {
   "cell_type": "code",
   "execution_count": 9,
   "id": "f8659621-56bb-4881-96fe-729716d606ff",
   "metadata": {},
   "outputs": [
    {
     "data": {
      "text/plain": [
       "WilcoxonResult(statistic=21642.0, pvalue=6.608440798659654e-25)"
      ]
     },
     "execution_count": 9,
     "metadata": {},
     "output_type": "execute_result"
    }
   ],
   "source": [
    "stats.wilcoxon(df['Revenue'], df['before Revenue'])"
   ]
  },
  {
   "cell_type": "markdown",
   "id": "93fc9d78-dfb4-4b2c-b8bd-eec66348147e",
   "metadata": {},
   "source": [
    "Так как pvalue очень мала, гипотеза о том, что Revenue не изменилась в следсивии эксперимента отвергается."
   ]
  },
  {
   "cell_type": "markdown",
   "id": "ac6ccf6f-fbdc-4b22-b1c1-cfb895d42d56",
   "metadata": {},
   "source": [
    "Определим статистическую значимость остальных изменения остальных метрик."
   ]
  },
  {
   "cell_type": "code",
   "execution_count": 10,
   "id": "3633e6da-f7fd-4e78-a567-1094b7655675",
   "metadata": {},
   "outputs": [
    {
     "data": {
      "text/plain": [
       "['Revenue', '# Checks', 'Qty', 'Avg Check Size', 'Avg Check']"
      ]
     },
     "execution_count": 10,
     "metadata": {},
     "output_type": "execute_result"
    }
   ],
   "source": [
    "metrics = ['Revenue', '# Checks', 'Qty', 'Avg Check Size', 'Avg Check']\n",
    "metrics"
   ]
  },
  {
   "cell_type": "code",
   "execution_count": 11,
   "id": "56416884-307c-44a6-892a-5b7b8dd4f1c0",
   "metadata": {},
   "outputs": [],
   "source": [
    "result_pvalue= pd.DataFrame(index= metrics, columns=('pvalue','result'))"
   ]
  },
  {
   "cell_type": "code",
   "execution_count": 16,
   "id": "09ff0928-7c7e-4838-b0e6-024f650ec7ae",
   "metadata": {},
   "outputs": [],
   "source": [
    "index = ['Revenue', '# Checks', 'Qty', 'Avg Check Size', 'Avg Check',\n",
    "       'before Revenue', 'before # Checks', 'before Qty',\n",
    "       'before Avg Check Size', 'before Avg Check']\n",
    "vec_pvalue = []\n",
    "vec_result = []\n",
    "for i in range(len(metrics)):\n",
    "    _, pvalue = stats.wilcoxon(df[index[i]], df[index[i+5]])\n",
    "    vec_pvalue.append(pvalue)\n",
    "    vec_result.append('False') if pvalue <= 0.05 else vec_result.append('True')\n",
    "result_pvalue['pvalue'] = vec_pvalue\n",
    "result_pvalue['result'] = vec_result\n"
   ]
  },
  {
   "cell_type": "code",
   "execution_count": 17,
   "id": "9c759961-e43e-4e86-9806-d0552d4a66d0",
   "metadata": {},
   "outputs": [
    {
     "data": {
      "text/html": [
       "<div>\n",
       "<style scoped>\n",
       "    .dataframe tbody tr th:only-of-type {\n",
       "        vertical-align: middle;\n",
       "    }\n",
       "\n",
       "    .dataframe tbody tr th {\n",
       "        vertical-align: top;\n",
       "    }\n",
       "\n",
       "    .dataframe thead th {\n",
       "        text-align: right;\n",
       "    }\n",
       "</style>\n",
       "<table border=\"1\" class=\"dataframe\">\n",
       "  <thead>\n",
       "    <tr style=\"text-align: right;\">\n",
       "      <th></th>\n",
       "      <th>pvalue</th>\n",
       "      <th>result</th>\n",
       "    </tr>\n",
       "  </thead>\n",
       "  <tbody>\n",
       "    <tr>\n",
       "      <th>Revenue</th>\n",
       "      <td>6.608441e-25</td>\n",
       "      <td>False</td>\n",
       "    </tr>\n",
       "    <tr>\n",
       "      <th># Checks</th>\n",
       "      <td>6.233538e-64</td>\n",
       "      <td>False</td>\n",
       "    </tr>\n",
       "    <tr>\n",
       "      <th>Qty</th>\n",
       "      <td>1.027143e-67</td>\n",
       "      <td>False</td>\n",
       "    </tr>\n",
       "    <tr>\n",
       "      <th>Avg Check Size</th>\n",
       "      <td>1.774326e-32</td>\n",
       "      <td>False</td>\n",
       "    </tr>\n",
       "    <tr>\n",
       "      <th>Avg Check</th>\n",
       "      <td>1.521409e-05</td>\n",
       "      <td>False</td>\n",
       "    </tr>\n",
       "  </tbody>\n",
       "</table>\n",
       "</div>"
      ],
      "text/plain": [
       "                      pvalue result\n",
       "Revenue         6.608441e-25  False\n",
       "# Checks        6.233538e-64  False\n",
       "Qty             1.027143e-67  False\n",
       "Avg Check Size  1.774326e-32  False\n",
       "Avg Check       1.521409e-05  False"
      ]
     },
     "execution_count": 17,
     "metadata": {},
     "output_type": "execute_result"
    }
   ],
   "source": [
    "result_pvalue"
   ]
  },
  {
   "cell_type": "markdown",
   "id": "9c9b7307-c25b-4322-8256-b1ca9abb4671",
   "metadata": {},
   "source": [
    "Тест Уилсона показал, что по изменениям всех метрик pvalue оказалась очень мала, поэтому можно отвергуть гипотезу о том, что изменений не наблюдается."
   ]
  },
  {
   "cell_type": "markdown",
   "id": "a0fcfbdc-22a7-40ca-8f0b-310d211cce01",
   "metadata": {},
   "source": [
    "Проверим результаты на двухвыборочном критерие знаков."
   ]
  },
  {
   "cell_type": "code",
   "execution_count": 18,
   "id": "652198d0-209b-44cb-8949-4a0907bda953",
   "metadata": {},
   "outputs": [],
   "source": [
    "result_pvalue_sign= pd.DataFrame(index= metrics, columns=('pvalue','result'))"
   ]
  },
  {
   "cell_type": "code",
   "execution_count": 19,
   "id": "9ce2052c-3756-4851-9ae7-ccedcf02a663",
   "metadata": {},
   "outputs": [],
   "source": [
    "vec_pvalue = []\n",
    "vec_result = []\n",
    "for i in range(len(metrics)):\n",
    "    _, pvalue = descriptivestats.sign_test(df[index[i]]-df[index[i+5]])\n",
    "    vec_pvalue.append(pvalue)\n",
    "    vec_result.append('False') if pvalue <= 0.05 else vec_result.append('True')\n",
    "result_pvalue_sign['pvalue'] = vec_pvalue\n",
    "result_pvalue_sign['result'] = vec_result"
   ]
  },
  {
   "cell_type": "code",
   "execution_count": 20,
   "id": "bf5179bf-7408-4ab6-af0e-c492359ace7d",
   "metadata": {},
   "outputs": [
    {
     "data": {
      "text/html": [
       "<div>\n",
       "<style scoped>\n",
       "    .dataframe tbody tr th:only-of-type {\n",
       "        vertical-align: middle;\n",
       "    }\n",
       "\n",
       "    .dataframe tbody tr th {\n",
       "        vertical-align: top;\n",
       "    }\n",
       "\n",
       "    .dataframe thead th {\n",
       "        text-align: right;\n",
       "    }\n",
       "</style>\n",
       "<table border=\"1\" class=\"dataframe\">\n",
       "  <thead>\n",
       "    <tr style=\"text-align: right;\">\n",
       "      <th></th>\n",
       "      <th>pvalue</th>\n",
       "      <th>result</th>\n",
       "    </tr>\n",
       "  </thead>\n",
       "  <tbody>\n",
       "    <tr>\n",
       "      <th>Revenue</th>\n",
       "      <td>3.514632e-20</td>\n",
       "      <td>False</td>\n",
       "    </tr>\n",
       "    <tr>\n",
       "      <th># Checks</th>\n",
       "      <td>8.590836e-70</td>\n",
       "      <td>False</td>\n",
       "    </tr>\n",
       "    <tr>\n",
       "      <th>Qty</th>\n",
       "      <td>6.167579e-84</td>\n",
       "      <td>False</td>\n",
       "    </tr>\n",
       "    <tr>\n",
       "      <th>Avg Check Size</th>\n",
       "      <td>7.393942e-27</td>\n",
       "      <td>False</td>\n",
       "    </tr>\n",
       "    <tr>\n",
       "      <th>Avg Check</th>\n",
       "      <td>4.444917e-05</td>\n",
       "      <td>False</td>\n",
       "    </tr>\n",
       "  </tbody>\n",
       "</table>\n",
       "</div>"
      ],
      "text/plain": [
       "                      pvalue result\n",
       "Revenue         3.514632e-20  False\n",
       "# Checks        8.590836e-70  False\n",
       "Qty             6.167579e-84  False\n",
       "Avg Check Size  7.393942e-27  False\n",
       "Avg Check       4.444917e-05  False"
      ]
     },
     "execution_count": 20,
     "metadata": {},
     "output_type": "execute_result"
    }
   ],
   "source": [
    "result_pvalue_sign"
   ]
  },
  {
   "cell_type": "markdown",
   "id": "68dbdce3-cf59-4518-a39e-b0de2a4edbff",
   "metadata": {},
   "source": [
    "Согласно обоим тестам по изменениям всех метрик pvalue оказалась очень мала, можно сделать вывод, что по всем метрикам мы наблюдаем статистически значимые отличия "
   ]
  },
  {
   "cell_type": "code",
   "execution_count": null,
   "id": "00bb92eb-04e4-4507-871e-bd935f790746",
   "metadata": {},
   "outputs": [],
   "source": []
  }
 ],
 "metadata": {
  "kernelspec": {
   "display_name": "Python 3 (ipykernel)",
   "language": "python",
   "name": "python3"
  },
  "language_info": {
   "codemirror_mode": {
    "name": "ipython",
    "version": 3
   },
   "file_extension": ".py",
   "mimetype": "text/x-python",
   "name": "python",
   "nbconvert_exporter": "python",
   "pygments_lexer": "ipython3",
   "version": "3.9.12"
  }
 },
 "nbformat": 4,
 "nbformat_minor": 5
}
